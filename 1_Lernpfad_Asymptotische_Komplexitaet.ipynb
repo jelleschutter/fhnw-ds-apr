{
 "cells": [
  {
   "cell_type": "markdown",
   "metadata": {},
   "source": [
    "# Lernpfad Asymptotische Komplexität"
   ]
  },
  {
   "cell_type": "markdown",
   "metadata": {},
   "source": [
    "## 1. Maximum Sub Sequence Problem"
   ]
  },
  {
   "cell_type": "markdown",
   "metadata": {},
   "source": [
    "### Lösung"
   ]
  },
  {
   "cell_type": "code",
   "execution_count": 1,
   "metadata": {},
   "outputs": [],
   "source": [
    "diffs = [31, -41, 59, 26, -53, 58, 97, -93, -23]"
   ]
  },
  {
   "cell_type": "code",
   "execution_count": 2,
   "metadata": {},
   "outputs": [],
   "source": [
    "def get_optimal_diff(diffs):\n",
    "    max_diff = 0\n",
    "    min_value = 0\n",
    "    max_value = 0\n",
    "    value = 0\n",
    "    for i in range(len(diffs)):\n",
    "        diff = diffs[i]\n",
    "        value = value + diff\n",
    "        if value < min_value:\n",
    "            min_value = value\n",
    "            max_value = value\n",
    "        if value > max_value:\n",
    "            max_value = value\n",
    "            new_max_diff = max_value - min_value\n",
    "            if new_max_diff > max_diff:\n",
    "                max_diff = new_max_diff\n",
    "    return max_diff"
   ]
  },
  {
   "cell_type": "code",
   "execution_count": 3,
   "metadata": {},
   "outputs": [
    {
     "data": {
      "text/plain": [
       "187"
      ]
     },
     "execution_count": 3,
     "metadata": {},
     "output_type": "execute_result"
    }
   ],
   "source": [
    "get_optimal_diff(diffs)"
   ]
  },
  {
   "cell_type": "markdown",
   "metadata": {},
   "source": [
    "### Testen"
   ]
  },
  {
   "cell_type": "code",
   "execution_count": null,
   "metadata": {},
   "outputs": [],
   "source": [
    "import unittest"
   ]
  },
  {
   "cell_type": "markdown",
   "metadata": {},
   "source": [
    "Ich sehe bei der Funktion zwei kritische Siutationen, welche getestet werden sollten:\n",
    "1. Wenn es mehrere Höhe- und Tiefpunkte gibt, wählt die Funktion den richten Bereich?\n",
    "2. Wenn der Höhepunkt vor dem optimalen Bereich liegt, wählt die Funktion den richten Bereich?\n",
    "\n",
    "Zusätzlich habe ich noch einen Test Case hinzugefügt, um zu kontrollieren ob die Funktion in einer einfachen Situation funktioniert."
   ]
  },
  {
   "cell_type": "code",
   "execution_count": 7,
   "metadata": {},
   "outputs": [],
   "source": [
    "class TestOptimalDiff(unittest.TestCase):\n",
    "    def test_diff(self):\n",
    "        diffs = [-1, 1, 1]\n",
    "        optimal_diff = get_optimal_diff(diffs)\n",
    "        self.assertEqual(optimal_diff, 2)\n",
    "        \n",
    "    def test_multiple_spikes_last(self):\n",
    "        diffs = [-1, 1, -2, 2]\n",
    "        optimal_diff = get_optimal_diff(diffs)\n",
    "        self.assertEqual(optimal_diff, 2)\n",
    "    \n",
    "    \n",
    "    def test_multiple_spikes_middle(self):\n",
    "        diffs = [1, -2, 1, -2, 2, -3, 1]\n",
    "        optimal_diff = get_optimal_diff(diffs)\n",
    "        self.assertEqual(optimal_diff, 2)"
   ]
  },
  {
   "cell_type": "code",
   "execution_count": 8,
   "metadata": {},
   "outputs": [
    {
     "name": "stderr",
     "output_type": "stream",
     "text": [
      "test_diff (__main__.TestOptimalDiff) ... ok\n",
      "test_multiple_spikes_last (__main__.TestOptimalDiff) ... ok\n",
      "test_multiple_spikes_middle (__main__.TestOptimalDiff) ... ok\n",
      "\n",
      "----------------------------------------------------------------------\n",
      "Ran 3 tests in 0.002s\n",
      "\n",
      "OK\n"
     ]
    },
    {
     "data": {
      "text/plain": [
       "<unittest.main.TestProgram at 0x7ff868765b20>"
      ]
     },
     "execution_count": 8,
     "metadata": {},
     "output_type": "execute_result"
    }
   ],
   "source": [
    "unittest.main(argv=[''], verbosity=2, exit=False)"
   ]
  },
  {
   "cell_type": "markdown",
   "metadata": {},
   "source": [
    "### Laufzeit\n",
    "Die Laufzeit sollte sich linear entwickeln. Also bei einer doppelt so langen Eingabe-Liste, sollte sich die Laufzeit auch verdoppeln."
   ]
  },
  {
   "cell_type": "code",
   "execution_count": null,
   "metadata": {},
   "outputs": [],
   "source": []
  }
 ],
 "metadata": {
  "kernelspec": {
   "display_name": "Python 3 (ipykernel)",
   "language": "python",
   "name": "python3"
  },
  "language_info": {
   "codemirror_mode": {
    "name": "ipython",
    "version": 3
   },
   "file_extension": ".py",
   "mimetype": "text/x-python",
   "name": "python",
   "nbconvert_exporter": "python",
   "pygments_lexer": "ipython3",
   "version": "3.8.10"
  }
 },
 "nbformat": 4,
 "nbformat_minor": 2
}
